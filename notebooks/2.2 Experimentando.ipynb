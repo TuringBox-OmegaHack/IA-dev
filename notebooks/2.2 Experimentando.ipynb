{
 "cells": [
  {
   "cell_type": "code",
   "execution_count": 16,
   "metadata": {},
   "outputs": [],
   "source": [
    "from pycaret.regression import *\n",
    "import pandas as pd"
   ]
  },
  {
   "cell_type": "code",
   "execution_count": 17,
   "metadata": {},
   "outputs": [
    {
     "data": {
      "text/plain": [
       "['Refrigerator',\n",
       " 'Clothes washer',\n",
       " 'Clothes Iron',\n",
       " 'Computer',\n",
       " 'Oven',\n",
       " 'Play',\n",
       " 'TV',\n",
       " 'Sound system']"
      ]
     },
     "execution_count": 17,
     "metadata": {},
     "output_type": "execute_result"
    }
   ],
   "source": [
    "df = pd.read_csv(\"../data/transformed/cargas_desagregadas_transformadas.csv\")\n",
    "electrodomestics = ['Refrigerator',\n",
    "    'Clothes washer',\n",
    "    'Clothes Iron',\n",
    "    'Computer',\n",
    "    'Oven',\n",
    "    'Play',\n",
    "    'TV',\n",
    "    'Sound system']\n",
    "electrodomestics"
   ]
  },
  {
   "cell_type": "code",
   "execution_count": 18,
   "metadata": {},
   "outputs": [],
   "source": [
    "df[\"Fecha\"] = pd.to_datetime(df[\"Fecha\"])"
   ]
  },
  {
   "cell_type": "code",
   "execution_count": 19,
   "metadata": {},
   "outputs": [
    {
     "data": {
      "text/plain": [
       "['Refrigerator',\n",
       " 'Clothes washer',\n",
       " 'Clothes Iron',\n",
       " 'Computer',\n",
       " 'Oven',\n",
       " 'Play',\n",
       " 'TV',\n",
       " 'Sound system']"
      ]
     },
     "execution_count": 19,
     "metadata": {},
     "output_type": "execute_result"
    }
   ],
   "source": [
    "electrodomestics = ['Refrigerator',\n",
    "    'Clothes washer',\n",
    "    'Clothes Iron',\n",
    "    'Computer',\n",
    "    'Oven',\n",
    "    'Play',\n",
    "    'TV',\n",
    "    'Sound system']\n",
    "electrodomestics"
   ]
  },
  {
   "cell_type": "code",
   "execution_count": 20,
   "metadata": {},
   "outputs": [],
   "source": [
    "df.drop(\"prediction\", axis=1, inplace=True)\n"
   ]
  },
  {
   "cell_type": "code",
   "execution_count": 21,
   "metadata": {},
   "outputs": [
    {
     "data": {
      "text/plain": [
       "['Refrigerator',\n",
       " 'Clothes washer',\n",
       " 'Clothes Iron',\n",
       " 'Computer',\n",
       " 'Oven',\n",
       " 'Play',\n",
       " 'TV',\n",
       " 'Sound system']"
      ]
     },
     "execution_count": 21,
     "metadata": {},
     "output_type": "execute_result"
    }
   ],
   "source": [
    "electrodomestics"
   ]
  },
  {
   "cell_type": "code",
   "execution_count": 22,
   "metadata": {},
   "outputs": [],
   "source": [
    "def data_regression(data, column):\n",
    "    dft = data.copy()\n",
    "    dft[\"y_pred\"] = data[column].copy()\n",
    "    for columna in df[electrodomestics]:\n",
    "        dft[columna] = dft[columna].apply(lambda x: 1 if x != 0 else 0)\n",
    "        dft[columna] = dft[columna].astype(\"object\")\n",
    "    dft = dft[dft[\"y_pred\"] != 0]\n",
    "    return dft"
   ]
  },
  {
   "cell_type": "code",
   "execution_count": 23,
   "metadata": {},
   "outputs": [],
   "source": [
    "def train_model_personalized(target):\n",
    "    df_refrigerador = data_regression(df, target)\n",
    "    cat_col = electrodomestics.extend([\"Month\", \"Day\", \"Hour\", \"Minutes\", \"WeekDay\", \"Hora_punta\"])\n",
    "    \n",
    "    setup(df_refrigerador,\n",
    "      normalize=True,\n",
    "      target=\"y_pred\",\n",
    "      date_features=[\"Fecha\"],\n",
    "      categorical_features=electrodomestics.extend([\"Month\", \"Day\", \"Hour\", \"Minutes\", \"WeekDay\", \"Hora_punta\"]),\n",
    "      session_id=42)\n",
    "    \n",
    "    estimator = 'rf'\n",
    "    model = create_model(estimator)\n",
    "    save_model(model, f'modelo {target}')\n",
    "\n",
    "    return model\n"
   ]
  },
  {
   "cell_type": "code",
   "execution_count": 24,
   "metadata": {},
   "outputs": [
    {
     "data": {
      "text/html": [
       "<style type=\"text/css\">\n",
       "#T_ad204_row11_col1, #T_ad204_row17_col1 {\n",
       "  background-color: lightgreen;\n",
       "}\n",
       "</style>\n",
       "<table id=\"T_ad204\">\n",
       "  <thead>\n",
       "    <tr>\n",
       "      <th class=\"blank level0\" >&nbsp;</th>\n",
       "      <th id=\"T_ad204_level0_col0\" class=\"col_heading level0 col0\" >Description</th>\n",
       "      <th id=\"T_ad204_level0_col1\" class=\"col_heading level0 col1\" >Value</th>\n",
       "    </tr>\n",
       "  </thead>\n",
       "  <tbody>\n",
       "    <tr>\n",
       "      <th id=\"T_ad204_level0_row0\" class=\"row_heading level0 row0\" >0</th>\n",
       "      <td id=\"T_ad204_row0_col0\" class=\"data row0 col0\" >Session id</td>\n",
       "      <td id=\"T_ad204_row0_col1\" class=\"data row0 col1\" >42</td>\n",
       "    </tr>\n",
       "    <tr>\n",
       "      <th id=\"T_ad204_level0_row1\" class=\"row_heading level0 row1\" >1</th>\n",
       "      <td id=\"T_ad204_row1_col0\" class=\"data row1 col0\" >Target</td>\n",
       "      <td id=\"T_ad204_row1_col1\" class=\"data row1 col1\" >y_pred</td>\n",
       "    </tr>\n",
       "    <tr>\n",
       "      <th id=\"T_ad204_level0_row2\" class=\"row_heading level0 row2\" >2</th>\n",
       "      <td id=\"T_ad204_row2_col0\" class=\"data row2 col0\" >Target type</td>\n",
       "      <td id=\"T_ad204_row2_col1\" class=\"data row2 col1\" >Regression</td>\n",
       "    </tr>\n",
       "    <tr>\n",
       "      <th id=\"T_ad204_level0_row3\" class=\"row_heading level0 row3\" >3</th>\n",
       "      <td id=\"T_ad204_row3_col0\" class=\"data row3 col0\" >Original data shape</td>\n",
       "      <td id=\"T_ad204_row3_col1\" class=\"data row3 col1\" >(168892, 20)</td>\n",
       "    </tr>\n",
       "    <tr>\n",
       "      <th id=\"T_ad204_level0_row4\" class=\"row_heading level0 row4\" >4</th>\n",
       "      <td id=\"T_ad204_row4_col0\" class=\"data row4 col0\" >Transformed data shape</td>\n",
       "      <td id=\"T_ad204_row4_col1\" class=\"data row4 col1\" >(168892, 28)</td>\n",
       "    </tr>\n",
       "    <tr>\n",
       "      <th id=\"T_ad204_level0_row5\" class=\"row_heading level0 row5\" >5</th>\n",
       "      <td id=\"T_ad204_row5_col0\" class=\"data row5 col0\" >Transformed train set shape</td>\n",
       "      <td id=\"T_ad204_row5_col1\" class=\"data row5 col1\" >(118224, 28)</td>\n",
       "    </tr>\n",
       "    <tr>\n",
       "      <th id=\"T_ad204_level0_row6\" class=\"row_heading level0 row6\" >6</th>\n",
       "      <td id=\"T_ad204_row6_col0\" class=\"data row6 col0\" >Transformed test set shape</td>\n",
       "      <td id=\"T_ad204_row6_col1\" class=\"data row6 col1\" >(50668, 28)</td>\n",
       "    </tr>\n",
       "    <tr>\n",
       "      <th id=\"T_ad204_level0_row7\" class=\"row_heading level0 row7\" >7</th>\n",
       "      <td id=\"T_ad204_row7_col0\" class=\"data row7 col0\" >Numeric features</td>\n",
       "      <td id=\"T_ad204_row7_col1\" class=\"data row7 col1\" >8</td>\n",
       "    </tr>\n",
       "    <tr>\n",
       "      <th id=\"T_ad204_level0_row8\" class=\"row_heading level0 row8\" >8</th>\n",
       "      <td id=\"T_ad204_row8_col0\" class=\"data row8 col0\" >Date features</td>\n",
       "      <td id=\"T_ad204_row8_col1\" class=\"data row8 col1\" >1</td>\n",
       "    </tr>\n",
       "    <tr>\n",
       "      <th id=\"T_ad204_level0_row9\" class=\"row_heading level0 row9\" >9</th>\n",
       "      <td id=\"T_ad204_row9_col0\" class=\"data row9 col0\" >Categorical features</td>\n",
       "      <td id=\"T_ad204_row9_col1\" class=\"data row9 col1\" >10</td>\n",
       "    </tr>\n",
       "    <tr>\n",
       "      <th id=\"T_ad204_level0_row10\" class=\"row_heading level0 row10\" >10</th>\n",
       "      <td id=\"T_ad204_row10_col0\" class=\"data row10 col0\" >Rows with missing values</td>\n",
       "      <td id=\"T_ad204_row10_col1\" class=\"data row10 col1\" >0.0%</td>\n",
       "    </tr>\n",
       "    <tr>\n",
       "      <th id=\"T_ad204_level0_row11\" class=\"row_heading level0 row11\" >11</th>\n",
       "      <td id=\"T_ad204_row11_col0\" class=\"data row11 col0\" >Preprocess</td>\n",
       "      <td id=\"T_ad204_row11_col1\" class=\"data row11 col1\" >True</td>\n",
       "    </tr>\n",
       "    <tr>\n",
       "      <th id=\"T_ad204_level0_row12\" class=\"row_heading level0 row12\" >12</th>\n",
       "      <td id=\"T_ad204_row12_col0\" class=\"data row12 col0\" >Imputation type</td>\n",
       "      <td id=\"T_ad204_row12_col1\" class=\"data row12 col1\" >simple</td>\n",
       "    </tr>\n",
       "    <tr>\n",
       "      <th id=\"T_ad204_level0_row13\" class=\"row_heading level0 row13\" >13</th>\n",
       "      <td id=\"T_ad204_row13_col0\" class=\"data row13 col0\" >Numeric imputation</td>\n",
       "      <td id=\"T_ad204_row13_col1\" class=\"data row13 col1\" >mean</td>\n",
       "    </tr>\n",
       "    <tr>\n",
       "      <th id=\"T_ad204_level0_row14\" class=\"row_heading level0 row14\" >14</th>\n",
       "      <td id=\"T_ad204_row14_col0\" class=\"data row14 col0\" >Categorical imputation</td>\n",
       "      <td id=\"T_ad204_row14_col1\" class=\"data row14 col1\" >mode</td>\n",
       "    </tr>\n",
       "    <tr>\n",
       "      <th id=\"T_ad204_level0_row15\" class=\"row_heading level0 row15\" >15</th>\n",
       "      <td id=\"T_ad204_row15_col0\" class=\"data row15 col0\" >Maximum one-hot encoding</td>\n",
       "      <td id=\"T_ad204_row15_col1\" class=\"data row15 col1\" >25</td>\n",
       "    </tr>\n",
       "    <tr>\n",
       "      <th id=\"T_ad204_level0_row16\" class=\"row_heading level0 row16\" >16</th>\n",
       "      <td id=\"T_ad204_row16_col0\" class=\"data row16 col0\" >Encoding method</td>\n",
       "      <td id=\"T_ad204_row16_col1\" class=\"data row16 col1\" >None</td>\n",
       "    </tr>\n",
       "    <tr>\n",
       "      <th id=\"T_ad204_level0_row17\" class=\"row_heading level0 row17\" >17</th>\n",
       "      <td id=\"T_ad204_row17_col0\" class=\"data row17 col0\" >Normalize</td>\n",
       "      <td id=\"T_ad204_row17_col1\" class=\"data row17 col1\" >True</td>\n",
       "    </tr>\n",
       "    <tr>\n",
       "      <th id=\"T_ad204_level0_row18\" class=\"row_heading level0 row18\" >18</th>\n",
       "      <td id=\"T_ad204_row18_col0\" class=\"data row18 col0\" >Normalize method</td>\n",
       "      <td id=\"T_ad204_row18_col1\" class=\"data row18 col1\" >zscore</td>\n",
       "    </tr>\n",
       "    <tr>\n",
       "      <th id=\"T_ad204_level0_row19\" class=\"row_heading level0 row19\" >19</th>\n",
       "      <td id=\"T_ad204_row19_col0\" class=\"data row19 col0\" >Fold Generator</td>\n",
       "      <td id=\"T_ad204_row19_col1\" class=\"data row19 col1\" >KFold</td>\n",
       "    </tr>\n",
       "    <tr>\n",
       "      <th id=\"T_ad204_level0_row20\" class=\"row_heading level0 row20\" >20</th>\n",
       "      <td id=\"T_ad204_row20_col0\" class=\"data row20 col0\" >Fold Number</td>\n",
       "      <td id=\"T_ad204_row20_col1\" class=\"data row20 col1\" >10</td>\n",
       "    </tr>\n",
       "    <tr>\n",
       "      <th id=\"T_ad204_level0_row21\" class=\"row_heading level0 row21\" >21</th>\n",
       "      <td id=\"T_ad204_row21_col0\" class=\"data row21 col0\" >CPU Jobs</td>\n",
       "      <td id=\"T_ad204_row21_col1\" class=\"data row21 col1\" >-1</td>\n",
       "    </tr>\n",
       "    <tr>\n",
       "      <th id=\"T_ad204_level0_row22\" class=\"row_heading level0 row22\" >22</th>\n",
       "      <td id=\"T_ad204_row22_col0\" class=\"data row22 col0\" >Use GPU</td>\n",
       "      <td id=\"T_ad204_row22_col1\" class=\"data row22 col1\" >False</td>\n",
       "    </tr>\n",
       "    <tr>\n",
       "      <th id=\"T_ad204_level0_row23\" class=\"row_heading level0 row23\" >23</th>\n",
       "      <td id=\"T_ad204_row23_col0\" class=\"data row23 col0\" >Log Experiment</td>\n",
       "      <td id=\"T_ad204_row23_col1\" class=\"data row23 col1\" >False</td>\n",
       "    </tr>\n",
       "    <tr>\n",
       "      <th id=\"T_ad204_level0_row24\" class=\"row_heading level0 row24\" >24</th>\n",
       "      <td id=\"T_ad204_row24_col0\" class=\"data row24 col0\" >Experiment Name</td>\n",
       "      <td id=\"T_ad204_row24_col1\" class=\"data row24 col1\" >reg-default-name</td>\n",
       "    </tr>\n",
       "    <tr>\n",
       "      <th id=\"T_ad204_level0_row25\" class=\"row_heading level0 row25\" >25</th>\n",
       "      <td id=\"T_ad204_row25_col0\" class=\"data row25 col0\" >USI</td>\n",
       "      <td id=\"T_ad204_row25_col1\" class=\"data row25 col1\" >5182</td>\n",
       "    </tr>\n",
       "  </tbody>\n",
       "</table>\n"
      ],
      "text/plain": [
       "<pandas.io.formats.style.Styler at 0x72c6095b4510>"
      ]
     },
     "metadata": {},
     "output_type": "display_data"
    },
    {
     "data": {
      "text/html": [
       "<div>\n",
       "<style scoped>\n",
       "    .dataframe tbody tr th:only-of-type {\n",
       "        vertical-align: middle;\n",
       "    }\n",
       "\n",
       "    .dataframe tbody tr th {\n",
       "        vertical-align: top;\n",
       "    }\n",
       "\n",
       "    .dataframe thead th {\n",
       "        text-align: right;\n",
       "    }\n",
       "</style>\n",
       "<table border=\"1\" class=\"dataframe\">\n",
       "  <thead>\n",
       "    <tr style=\"text-align: right;\">\n",
       "      <th></th>\n",
       "      <th></th>\n",
       "      <th></th>\n",
       "    </tr>\n",
       "    <tr>\n",
       "      <th></th>\n",
       "      <th></th>\n",
       "      <th></th>\n",
       "    </tr>\n",
       "  </thead>\n",
       "  <tbody>\n",
       "    <tr>\n",
       "      <th>Initiated</th>\n",
       "      <td>. . . . . . . . . . . . . . . . . .</td>\n",
       "      <td>09:28:39</td>\n",
       "    </tr>\n",
       "    <tr>\n",
       "      <th>Status</th>\n",
       "      <td>. . . . . . . . . . . . . . . . . .</td>\n",
       "      <td>Fitting 10 Folds</td>\n",
       "    </tr>\n",
       "    <tr>\n",
       "      <th>Estimator</th>\n",
       "      <td>. . . . . . . . . . . . . . . . . .</td>\n",
       "      <td>Random Forest Regressor</td>\n",
       "    </tr>\n",
       "  </tbody>\n",
       "</table>\n",
       "</div>"
      ],
      "text/plain": [
       "                                                                       \n",
       "                                                                       \n",
       "Initiated  . . . . . . . . . . . . . . . . . .                 09:28:39\n",
       "Status     . . . . . . . . . . . . . . . . . .         Fitting 10 Folds\n",
       "Estimator  . . . . . . . . . . . . . . . . . .  Random Forest Regressor"
      ]
     },
     "metadata": {},
     "output_type": "display_data"
    },
    {
     "data": {
      "text/html": [],
      "text/plain": [
       "<IPython.core.display.HTML object>"
      ]
     },
     "metadata": {},
     "output_type": "display_data"
    },
    {
     "data": {
      "application/vnd.jupyter.widget-view+json": {
       "model_id": "89ab9f4dfbed4645a7f9376eb0040b92",
       "version_major": 2,
       "version_minor": 0
      },
      "text/plain": [
       "Processing:   0%|          | 0/4 [00:00<?, ?it/s]"
      ]
     },
     "metadata": {},
     "output_type": "display_data"
    }
   ],
   "source": [
    "train_model_personalized(['Refrigerator'])"
   ]
  },
  {
   "cell_type": "code",
   "execution_count": null,
   "metadata": {},
   "outputs": [],
   "source": []
  }
 ],
 "metadata": {
  "kernelspec": {
   "display_name": "base",
   "language": "python",
   "name": "python3"
  },
  "language_info": {
   "codemirror_mode": {
    "name": "ipython",
    "version": 3
   },
   "file_extension": ".py",
   "mimetype": "text/x-python",
   "name": "python",
   "nbconvert_exporter": "python",
   "pygments_lexer": "ipython3",
   "version": "3.11.8"
  }
 },
 "nbformat": 4,
 "nbformat_minor": 2
}
