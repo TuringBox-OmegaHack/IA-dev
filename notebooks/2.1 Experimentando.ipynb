{
 "cells": [
  {
   "cell_type": "code",
   "execution_count": 2,
   "metadata": {},
   "outputs": [],
   "source": [
    "from pycaret.classification import *\n",
    "import pandas as pd"
   ]
  },
  {
   "cell_type": "code",
   "execution_count": 3,
   "metadata": {},
   "outputs": [],
   "source": [
    "df_cargas = pd.read_csv(\"../data/transformed/cargas_transformadas.csv\")"
   ]
  },
  {
   "cell_type": "code",
   "execution_count": 4,
   "metadata": {},
   "outputs": [
    {
     "data": {
      "text/plain": [
       "Fecha              object\n",
       "Medidor [W]       float64\n",
       "Refrigerator        int64\n",
       "Clothes washer      int64\n",
       "Clothes Iron        int64\n",
       "Computer            int64\n",
       "Oven                int64\n",
       "Play                int64\n",
       "TV                  int64\n",
       "Sound system        int64\n",
       "Month               int64\n",
       "Day                 int64\n",
       "Hour                int64\n",
       "Minutes             int64\n",
       "Date               object\n",
       "WeekDay            object\n",
       "WeekDayNumber       int64\n",
       "Time                int64\n",
       "Ptc_delta           int64\n",
       "Movil               int64\n",
       "Hora_punta          int64\n",
       "delta             float64\n",
       "target             object\n",
       "dtype: object"
      ]
     },
     "execution_count": 4,
     "metadata": {},
     "output_type": "execute_result"
    }
   ],
   "source": [
    "df_cargas.dtypes"
   ]
  },
  {
   "cell_type": "code",
   "execution_count": 27,
   "metadata": {},
   "outputs": [
    {
     "data": {
      "text/html": [
       "<style type=\"text/css\">\n",
       "#T_714ea_row11_col1 {\n",
       "  background-color: lightgreen;\n",
       "}\n",
       "</style>\n",
       "<table id=\"T_714ea\">\n",
       "  <thead>\n",
       "    <tr>\n",
       "      <th class=\"blank level0\" >&nbsp;</th>\n",
       "      <th id=\"T_714ea_level0_col0\" class=\"col_heading level0 col0\" >Description</th>\n",
       "      <th id=\"T_714ea_level0_col1\" class=\"col_heading level0 col1\" >Value</th>\n",
       "    </tr>\n",
       "  </thead>\n",
       "  <tbody>\n",
       "    <tr>\n",
       "      <th id=\"T_714ea_level0_row0\" class=\"row_heading level0 row0\" >0</th>\n",
       "      <td id=\"T_714ea_row0_col0\" class=\"data row0 col0\" >Session id</td>\n",
       "      <td id=\"T_714ea_row0_col1\" class=\"data row0 col1\" >42</td>\n",
       "    </tr>\n",
       "    <tr>\n",
       "      <th id=\"T_714ea_level0_row1\" class=\"row_heading level0 row1\" >1</th>\n",
       "      <td id=\"T_714ea_row1_col0\" class=\"data row1 col0\" >Target</td>\n",
       "      <td id=\"T_714ea_row1_col1\" class=\"data row1 col1\" >target</td>\n",
       "    </tr>\n",
       "    <tr>\n",
       "      <th id=\"T_714ea_level0_row2\" class=\"row_heading level0 row2\" >2</th>\n",
       "      <td id=\"T_714ea_row2_col0\" class=\"data row2 col0\" >Target type</td>\n",
       "      <td id=\"T_714ea_row2_col1\" class=\"data row2 col1\" >Multiclass</td>\n",
       "    </tr>\n",
       "    <tr>\n",
       "      <th id=\"T_714ea_level0_row3\" class=\"row_heading level0 row3\" >3</th>\n",
       "      <td id=\"T_714ea_row3_col0\" class=\"data row3 col0\" >Target mapping</td>\n",
       "      <td id=\"T_714ea_row3_col1\" class=\"data row3 col1\" >Clothes Iron: 0, Clothes Iron_Computer: 1, Clothes Iron_Computer_Oven: 2, Clothes Iron_Computer_Oven_Play: 3, Clothes Iron_Computer_Oven_Play_Sound system: 4, Clothes Iron_Computer_Oven_Play_TV: 5, Clothes Iron_Computer_Oven_Play_TV_Sound system: 6, Clothes Iron_Computer_Oven_Sound system: 7, Clothes Iron_Computer_Oven_TV: 8, Clothes Iron_Computer_Oven_TV_Sound system: 9, Clothes Iron_Computer_Play: 10, Clothes Iron_Computer_Play_Sound system: 11, Clothes Iron_Computer_Play_TV: 12, Clothes Iron_Computer_Play_TV_Sound system: 13, Clothes Iron_Computer_Sound system: 14, Clothes Iron_Computer_TV: 15, Clothes Iron_Computer_TV_Sound system: 16, Clothes Iron_Oven: 17, Clothes Iron_Oven_Play: 18, Clothes Iron_Oven_Play_Sound system: 19, Clothes Iron_Oven_Play_TV: 20, Clothes Iron_Oven_Play_TV_Sound system: 21, Clothes Iron_Oven_Sound system: 22, Clothes Iron_Oven_TV: 23, Clothes Iron_Oven_TV_Sound system: 24, Clothes Iron_Play_Sound system: 25, Clothes Iron_Play_TV: 26, Clothes Iron_Play_TV_Sound system: 27, Clothes Iron_Sound system: 28, Clothes Iron_TV: 29, Clothes Iron_TV_Sound system: 30, Clothes washer: 31, Clothes washer_Clothes Iron: 32, Clothes washer_Clothes Iron_Computer: 33, Clothes washer_Clothes Iron_Computer_Oven: 34, Clothes washer_Clothes Iron_Computer_Oven_Play: 35, Clothes washer_Clothes Iron_Computer_Oven_Play_Sound system: 36, Clothes washer_Clothes Iron_Computer_Oven_Play_TV: 37, Clothes washer_Clothes Iron_Computer_Oven_Play_TV_Sound system: 38, Clothes washer_Clothes Iron_Computer_Oven_Sound system: 39, Clothes washer_Clothes Iron_Computer_Oven_TV: 40, Clothes washer_Clothes Iron_Computer_Oven_TV_Sound system: 41, Clothes washer_Clothes Iron_Computer_Play: 42, Clothes washer_Clothes Iron_Computer_Play_Sound system: 43, Clothes washer_Clothes Iron_Computer_Play_TV: 44, Clothes washer_Clothes Iron_Computer_Play_TV_Sound system: 45, Clothes washer_Clothes Iron_Computer_Sound system: 46, Clothes washer_Clothes Iron_Computer_TV: 47, Clothes washer_Clothes Iron_Computer_TV_Sound system: 48, Clothes washer_Clothes Iron_Oven: 49, Clothes washer_Clothes Iron_Oven_Play: 50, Clothes washer_Clothes Iron_Oven_Play_Sound system: 51, Clothes washer_Clothes Iron_Oven_Play_TV: 52, Clothes washer_Clothes Iron_Oven_Play_TV_Sound system: 53, Clothes washer_Clothes Iron_Oven_Sound system: 54, Clothes washer_Clothes Iron_Oven_TV: 55, Clothes washer_Clothes Iron_Oven_TV_Sound system: 56, Clothes washer_Clothes Iron_Play: 57, Clothes washer_Clothes Iron_Play_Sound system: 58, Clothes washer_Clothes Iron_Play_TV: 59, Clothes washer_Clothes Iron_Play_TV_Sound system: 60, Clothes washer_Clothes Iron_Sound system: 61, Clothes washer_Clothes Iron_TV: 62, Clothes washer_Clothes Iron_TV_Sound system: 63, Clothes washer_Computer: 64, Clothes washer_Computer_Oven: 65, Clothes washer_Computer_Oven_Play: 66, Clothes washer_Computer_Oven_Play_Sound system: 67, Clothes washer_Computer_Oven_Play_TV: 68, Clothes washer_Computer_Oven_Play_TV_Sound system: 69, Clothes washer_Computer_Oven_Sound system: 70, Clothes washer_Computer_Oven_TV: 71, Clothes washer_Computer_Oven_TV_Sound system: 72, Clothes washer_Computer_Play: 73, Clothes washer_Computer_Play_Sound system: 74, Clothes washer_Computer_Play_TV: 75, Clothes washer_Computer_Play_TV_Sound system: 76, Clothes washer_Computer_Sound system: 77, Clothes washer_Computer_TV: 78, Clothes washer_Computer_TV_Sound system: 79, Clothes washer_Oven: 80, Clothes washer_Oven_Play: 81, Clothes washer_Oven_Play_Sound system: 82, Clothes washer_Oven_Play_TV: 83, Clothes washer_Oven_Play_TV_Sound system: 84, Clothes washer_Oven_Sound system: 85, Clothes washer_Oven_TV: 86, Clothes washer_Oven_TV_Sound system: 87, Clothes washer_Play: 88, Clothes washer_Play_Sound system: 89, Clothes washer_Play_TV: 90, Clothes washer_Play_TV_Sound system: 91, Clothes washer_Sound system: 92, Clothes washer_TV: 93, Clothes washer_TV_Sound system: 94, Computer_Oven: 95, Computer_Oven_Play: 96, Computer_Oven_Play_Sound system: 97, Computer_Oven_Play_TV: 98, Computer_Oven_Play_TV_Sound system: 99, Computer_Oven_Sound system: 100, Computer_Oven_TV: 101, Computer_Oven_TV_Sound system: 102, Computer_Play: 103, Computer_Play_Sound system: 104, Computer_Play_TV: 105, Computer_Play_TV_Sound system: 106, Computer_Sound system: 107, Computer_TV: 108, Computer_TV_Sound system: 109, Ninguno: 110, Oven: 111, Oven_Play_Sound system: 112, Oven_Play_TV: 113, Oven_Play_TV_Sound system: 114, Oven_Sound system: 115, Oven_TV: 116, Oven_TV_Sound system: 117, Play_Sound system: 118, Play_TV: 119, Play_TV_Sound system: 120, Refrigerator: 121, Refrigerator_Clothes Iron: 122, Refrigerator_Clothes Iron_Computer: 123, Refrigerator_Clothes Iron_Computer_Oven: 124, Refrigerator_Clothes Iron_Computer_Oven_Play: 125, Refrigerator_Clothes Iron_Computer_Oven_Play_Sound system: 126, Refrigerator_Clothes Iron_Computer_Oven_Play_TV: 127, Refrigerator_Clothes Iron_Computer_Oven_Play_TV_Sound system: 128, Refrigerator_Clothes Iron_Computer_Oven_Sound system: 129, Refrigerator_Clothes Iron_Computer_Oven_TV: 130, Refrigerator_Clothes Iron_Computer_Oven_TV_Sound system: 131, Refrigerator_Clothes Iron_Computer_Play: 132, Refrigerator_Clothes Iron_Computer_Play_Sound system: 133, Refrigerator_Clothes Iron_Computer_Play_TV: 134, Refrigerator_Clothes Iron_Computer_Play_TV_Sound system: 135, Refrigerator_Clothes Iron_Computer_Sound system: 136, Refrigerator_Clothes Iron_Computer_TV: 137, Refrigerator_Clothes Iron_Computer_TV_Sound system: 138, Refrigerator_Clothes Iron_Oven: 139, Refrigerator_Clothes Iron_Oven_Play: 140, Refrigerator_Clothes Iron_Oven_Play_Sound system: 141, Refrigerator_Clothes Iron_Oven_Play_TV: 142, Refrigerator_Clothes Iron_Oven_Play_TV_Sound system: 143, Refrigerator_Clothes Iron_Oven_Sound system: 144, Refrigerator_Clothes Iron_Oven_TV: 145, Refrigerator_Clothes Iron_Oven_TV_Sound system: 146, Refrigerator_Clothes Iron_Play: 147, Refrigerator_Clothes Iron_Play_Sound system: 148, Refrigerator_Clothes Iron_Play_TV: 149, Refrigerator_Clothes Iron_Play_TV_Sound system: 150, Refrigerator_Clothes Iron_Sound system: 151, Refrigerator_Clothes Iron_TV: 152, Refrigerator_Clothes Iron_TV_Sound system: 153, Refrigerator_Clothes washer: 154, Refrigerator_Clothes washer_Clothes Iron: 155, Refrigerator_Clothes washer_Clothes Iron_Computer: 156, Refrigerator_Clothes washer_Clothes Iron_Computer_Oven: 157, Refrigerator_Clothes washer_Clothes Iron_Computer_Oven_Play: 158, Refrigerator_Clothes washer_Clothes Iron_Computer_Oven_Play_Sound system: 159, Refrigerator_Clothes washer_Clothes Iron_Computer_Oven_Play_TV: 160, Refrigerator_Clothes washer_Clothes Iron_Computer_Oven_Play_TV_Sound system: 161, Refrigerator_Clothes washer_Clothes Iron_Computer_Oven_Sound system: 162, Refrigerator_Clothes washer_Clothes Iron_Computer_Oven_TV: 163, Refrigerator_Clothes washer_Clothes Iron_Computer_Oven_TV_Sound system: 164, Refrigerator_Clothes washer_Clothes Iron_Computer_Play: 165, Refrigerator_Clothes washer_Clothes Iron_Computer_Play_Sound system: 166, Refrigerator_Clothes washer_Clothes Iron_Computer_Play_TV: 167, Refrigerator_Clothes washer_Clothes Iron_Computer_Play_TV_Sound system: 168, Refrigerator_Clothes washer_Clothes Iron_Computer_Sound system: 169, Refrigerator_Clothes washer_Clothes Iron_Computer_TV: 170, Refrigerator_Clothes washer_Clothes Iron_Computer_TV_Sound system: 171, Refrigerator_Clothes washer_Clothes Iron_Oven: 172, Refrigerator_Clothes washer_Clothes Iron_Oven_Play: 173, Refrigerator_Clothes washer_Clothes Iron_Oven_Play_Sound system: 174, Refrigerator_Clothes washer_Clothes Iron_Oven_Play_TV: 175, Refrigerator_Clothes washer_Clothes Iron_Oven_Play_TV_Sound system: 176, Refrigerator_Clothes washer_Clothes Iron_Oven_Sound system: 177, Refrigerator_Clothes washer_Clothes Iron_Oven_TV: 178, Refrigerator_Clothes washer_Clothes Iron_Oven_TV_Sound system: 179, Refrigerator_Clothes washer_Clothes Iron_Play: 180, Refrigerator_Clothes washer_Clothes Iron_Play_Sound system: 181, Refrigerator_Clothes washer_Clothes Iron_Play_TV: 182, Refrigerator_Clothes washer_Clothes Iron_Play_TV_Sound system: 183, Refrigerator_Clothes washer_Clothes Iron_Sound system: 184, Refrigerator_Clothes washer_Clothes Iron_TV: 185, Refrigerator_Clothes washer_Clothes Iron_TV_Sound system: 186, Refrigerator_Clothes washer_Computer: 187, Refrigerator_Clothes washer_Computer_Oven: 188, Refrigerator_Clothes washer_Computer_Oven_Play: 189, Refrigerator_Clothes washer_Computer_Oven_Play_Sound system: 190, Refrigerator_Clothes washer_Computer_Oven_Play_TV: 191, Refrigerator_Clothes washer_Computer_Oven_Play_TV_Sound system: 192, Refrigerator_Clothes washer_Computer_Oven_Sound system: 193, Refrigerator_Clothes washer_Computer_Oven_TV: 194, Refrigerator_Clothes washer_Computer_Oven_TV_Sound system: 195, Refrigerator_Clothes washer_Computer_Play: 196, Refrigerator_Clothes washer_Computer_Play_Sound system: 197, Refrigerator_Clothes washer_Computer_Play_TV: 198, Refrigerator_Clothes washer_Computer_Play_TV_Sound system: 199, Refrigerator_Clothes washer_Computer_Sound system: 200, Refrigerator_Clothes washer_Computer_TV: 201, Refrigerator_Clothes washer_Computer_TV_Sound system: 202, Refrigerator_Clothes washer_Oven: 203, Refrigerator_Clothes washer_Oven_Play: 204, Refrigerator_Clothes washer_Oven_Play_Sound system: 205, Refrigerator_Clothes washer_Oven_Play_TV: 206, Refrigerator_Clothes washer_Oven_Play_TV_Sound system: 207, Refrigerator_Clothes washer_Oven_Sound system: 208, Refrigerator_Clothes washer_Oven_TV: 209, Refrigerator_Clothes washer_Oven_TV_Sound system: 210, Refrigerator_Clothes washer_Play: 211, Refrigerator_Clothes washer_Play_Sound system: 212, Refrigerator_Clothes washer_Play_TV: 213, Refrigerator_Clothes washer_Play_TV_Sound system: 214, Refrigerator_Clothes washer_Sound system: 215, Refrigerator_Clothes washer_TV: 216, Refrigerator_Clothes washer_TV_Sound system: 217, Refrigerator_Computer: 218, Refrigerator_Computer_Oven: 219, Refrigerator_Computer_Oven_Play: 220, Refrigerator_Computer_Oven_Play_Sound system: 221, Refrigerator_Computer_Oven_Play_TV: 222, Refrigerator_Computer_Oven_Play_TV_Sound system: 223, Refrigerator_Computer_Oven_Sound system: 224, Refrigerator_Computer_Oven_TV: 225, Refrigerator_Computer_Oven_TV_Sound system: 226, Refrigerator_Computer_Play: 227, Refrigerator_Computer_Play_Sound system: 228, Refrigerator_Computer_Play_TV: 229, Refrigerator_Computer_Play_TV_Sound system: 230, Refrigerator_Computer_Sound system: 231, Refrigerator_Computer_TV: 232, Refrigerator_Computer_TV_Sound system: 233, Refrigerator_Oven: 234, Refrigerator_Oven_Play: 235, Refrigerator_Oven_Play_Sound system: 236, Refrigerator_Oven_Play_TV: 237, Refrigerator_Oven_Play_TV_Sound system: 238, Refrigerator_Oven_Sound system: 239, Refrigerator_Oven_TV: 240, Refrigerator_Oven_TV_Sound system: 241, Refrigerator_Play: 242, Refrigerator_Play_Sound system: 243, Refrigerator_Play_TV: 244, Refrigerator_Play_TV_Sound system: 245, Refrigerator_Sound system: 246, Refrigerator_TV: 247, Refrigerator_TV_Sound system: 248, Sound system: 249, TV: 250, TV_Sound system: 251</td>\n",
       "    </tr>\n",
       "    <tr>\n",
       "      <th id=\"T_714ea_level0_row4\" class=\"row_heading level0 row4\" >4</th>\n",
       "      <td id=\"T_714ea_row4_col0\" class=\"data row4 col0\" >Original data shape</td>\n",
       "      <td id=\"T_714ea_row4_col1\" class=\"data row4 col1\" >(194121, 23)</td>\n",
       "    </tr>\n",
       "    <tr>\n",
       "      <th id=\"T_714ea_level0_row5\" class=\"row_heading level0 row5\" >5</th>\n",
       "      <td id=\"T_714ea_row5_col0\" class=\"data row5 col0\" >Transformed data shape</td>\n",
       "      <td id=\"T_714ea_row5_col1\" class=\"data row5 col1\" >(194121, 29)</td>\n",
       "    </tr>\n",
       "    <tr>\n",
       "      <th id=\"T_714ea_level0_row6\" class=\"row_heading level0 row6\" >6</th>\n",
       "      <td id=\"T_714ea_row6_col0\" class=\"data row6 col0\" >Transformed train set shape</td>\n",
       "      <td id=\"T_714ea_row6_col1\" class=\"data row6 col1\" >(135884, 29)</td>\n",
       "    </tr>\n",
       "    <tr>\n",
       "      <th id=\"T_714ea_level0_row7\" class=\"row_heading level0 row7\" >7</th>\n",
       "      <td id=\"T_714ea_row7_col0\" class=\"data row7 col0\" >Transformed test set shape</td>\n",
       "      <td id=\"T_714ea_row7_col1\" class=\"data row7 col1\" >(58237, 29)</td>\n",
       "    </tr>\n",
       "    <tr>\n",
       "      <th id=\"T_714ea_level0_row8\" class=\"row_heading level0 row8\" >8</th>\n",
       "      <td id=\"T_714ea_row8_col0\" class=\"data row8 col0\" >Numeric features</td>\n",
       "      <td id=\"T_714ea_row8_col1\" class=\"data row8 col1\" >19</td>\n",
       "    </tr>\n",
       "    <tr>\n",
       "      <th id=\"T_714ea_level0_row9\" class=\"row_heading level0 row9\" >9</th>\n",
       "      <td id=\"T_714ea_row9_col0\" class=\"data row9 col0\" >Categorical features</td>\n",
       "      <td id=\"T_714ea_row9_col1\" class=\"data row9 col1\" >3</td>\n",
       "    </tr>\n",
       "    <tr>\n",
       "      <th id=\"T_714ea_level0_row10\" class=\"row_heading level0 row10\" >10</th>\n",
       "      <td id=\"T_714ea_row10_col0\" class=\"data row10 col0\" >Rows with missing values</td>\n",
       "      <td id=\"T_714ea_row10_col1\" class=\"data row10 col1\" >0.0%</td>\n",
       "    </tr>\n",
       "    <tr>\n",
       "      <th id=\"T_714ea_level0_row11\" class=\"row_heading level0 row11\" >11</th>\n",
       "      <td id=\"T_714ea_row11_col0\" class=\"data row11 col0\" >Preprocess</td>\n",
       "      <td id=\"T_714ea_row11_col1\" class=\"data row11 col1\" >True</td>\n",
       "    </tr>\n",
       "    <tr>\n",
       "      <th id=\"T_714ea_level0_row12\" class=\"row_heading level0 row12\" >12</th>\n",
       "      <td id=\"T_714ea_row12_col0\" class=\"data row12 col0\" >Imputation type</td>\n",
       "      <td id=\"T_714ea_row12_col1\" class=\"data row12 col1\" >simple</td>\n",
       "    </tr>\n",
       "    <tr>\n",
       "      <th id=\"T_714ea_level0_row13\" class=\"row_heading level0 row13\" >13</th>\n",
       "      <td id=\"T_714ea_row13_col0\" class=\"data row13 col0\" >Numeric imputation</td>\n",
       "      <td id=\"T_714ea_row13_col1\" class=\"data row13 col1\" >mean</td>\n",
       "    </tr>\n",
       "    <tr>\n",
       "      <th id=\"T_714ea_level0_row14\" class=\"row_heading level0 row14\" >14</th>\n",
       "      <td id=\"T_714ea_row14_col0\" class=\"data row14 col0\" >Categorical imputation</td>\n",
       "      <td id=\"T_714ea_row14_col1\" class=\"data row14 col1\" >mode</td>\n",
       "    </tr>\n",
       "    <tr>\n",
       "      <th id=\"T_714ea_level0_row15\" class=\"row_heading level0 row15\" >15</th>\n",
       "      <td id=\"T_714ea_row15_col0\" class=\"data row15 col0\" >Maximum one-hot encoding</td>\n",
       "      <td id=\"T_714ea_row15_col1\" class=\"data row15 col1\" >25</td>\n",
       "    </tr>\n",
       "    <tr>\n",
       "      <th id=\"T_714ea_level0_row16\" class=\"row_heading level0 row16\" >16</th>\n",
       "      <td id=\"T_714ea_row16_col0\" class=\"data row16 col0\" >Encoding method</td>\n",
       "      <td id=\"T_714ea_row16_col1\" class=\"data row16 col1\" >None</td>\n",
       "    </tr>\n",
       "    <tr>\n",
       "      <th id=\"T_714ea_level0_row17\" class=\"row_heading level0 row17\" >17</th>\n",
       "      <td id=\"T_714ea_row17_col0\" class=\"data row17 col0\" >Fold Generator</td>\n",
       "      <td id=\"T_714ea_row17_col1\" class=\"data row17 col1\" >StratifiedKFold</td>\n",
       "    </tr>\n",
       "    <tr>\n",
       "      <th id=\"T_714ea_level0_row18\" class=\"row_heading level0 row18\" >18</th>\n",
       "      <td id=\"T_714ea_row18_col0\" class=\"data row18 col0\" >Fold Number</td>\n",
       "      <td id=\"T_714ea_row18_col1\" class=\"data row18 col1\" >10</td>\n",
       "    </tr>\n",
       "    <tr>\n",
       "      <th id=\"T_714ea_level0_row19\" class=\"row_heading level0 row19\" >19</th>\n",
       "      <td id=\"T_714ea_row19_col0\" class=\"data row19 col0\" >CPU Jobs</td>\n",
       "      <td id=\"T_714ea_row19_col1\" class=\"data row19 col1\" >-1</td>\n",
       "    </tr>\n",
       "    <tr>\n",
       "      <th id=\"T_714ea_level0_row20\" class=\"row_heading level0 row20\" >20</th>\n",
       "      <td id=\"T_714ea_row20_col0\" class=\"data row20 col0\" >Use GPU</td>\n",
       "      <td id=\"T_714ea_row20_col1\" class=\"data row20 col1\" >False</td>\n",
       "    </tr>\n",
       "    <tr>\n",
       "      <th id=\"T_714ea_level0_row21\" class=\"row_heading level0 row21\" >21</th>\n",
       "      <td id=\"T_714ea_row21_col0\" class=\"data row21 col0\" >Log Experiment</td>\n",
       "      <td id=\"T_714ea_row21_col1\" class=\"data row21 col1\" >False</td>\n",
       "    </tr>\n",
       "    <tr>\n",
       "      <th id=\"T_714ea_level0_row22\" class=\"row_heading level0 row22\" >22</th>\n",
       "      <td id=\"T_714ea_row22_col0\" class=\"data row22 col0\" >Experiment Name</td>\n",
       "      <td id=\"T_714ea_row22_col1\" class=\"data row22 col1\" >clf-default-name</td>\n",
       "    </tr>\n",
       "    <tr>\n",
       "      <th id=\"T_714ea_level0_row23\" class=\"row_heading level0 row23\" >23</th>\n",
       "      <td id=\"T_714ea_row23_col0\" class=\"data row23 col0\" >USI</td>\n",
       "      <td id=\"T_714ea_row23_col1\" class=\"data row23 col1\" >b268</td>\n",
       "    </tr>\n",
       "  </tbody>\n",
       "</table>\n"
      ],
      "text/plain": [
       "<pandas.io.formats.style.Styler at 0x18bebac5790>"
      ]
     },
     "metadata": {},
     "output_type": "display_data"
    },
    {
     "data": {
      "text/plain": [
       "<pycaret.classification.oop.ClassificationExperiment at 0x18b81953950>"
      ]
     },
     "execution_count": 27,
     "metadata": {},
     "output_type": "execute_result"
    }
   ],
   "source": [
    "setup(df_cargas,\n",
    "      normalize=True,\n",
    "      numeric_imputation=\"knn\",\n",
    "      target=\"target\",\n",
    "      session_id=42)"
   ]
  },
  {
   "cell_type": "code",
   "execution_count": 28,
   "metadata": {},
   "outputs": [
    {
     "data": {
      "text/html": [
       "<div>\n",
       "<style scoped>\n",
       "    .dataframe tbody tr th:only-of-type {\n",
       "        vertical-align: middle;\n",
       "    }\n",
       "\n",
       "    .dataframe tbody tr th {\n",
       "        vertical-align: top;\n",
       "    }\n",
       "\n",
       "    .dataframe thead th {\n",
       "        text-align: right;\n",
       "    }\n",
       "</style>\n",
       "<table border=\"1\" class=\"dataframe\">\n",
       "  <thead>\n",
       "    <tr style=\"text-align: right;\">\n",
       "      <th></th>\n",
       "      <th></th>\n",
       "      <th></th>\n",
       "    </tr>\n",
       "    <tr>\n",
       "      <th></th>\n",
       "      <th></th>\n",
       "      <th></th>\n",
       "    </tr>\n",
       "  </thead>\n",
       "  <tbody>\n",
       "    <tr>\n",
       "      <th>Initiated</th>\n",
       "      <td>. . . . . . . . . . . . . . . . . .</td>\n",
       "      <td>03:25:23</td>\n",
       "    </tr>\n",
       "    <tr>\n",
       "      <th>Status</th>\n",
       "      <td>. . . . . . . . . . . . . . . . . .</td>\n",
       "      <td>Fitting 10 Folds</td>\n",
       "    </tr>\n",
       "    <tr>\n",
       "      <th>Estimator</th>\n",
       "      <td>. . . . . . . . . . . . . . . . . .</td>\n",
       "      <td>Logistic Regression</td>\n",
       "    </tr>\n",
       "  </tbody>\n",
       "</table>\n",
       "</div>"
      ],
      "text/plain": [
       "                                                                   \n",
       "                                                                   \n",
       "Initiated  . . . . . . . . . . . . . . . . . .             03:25:23\n",
       "Status     . . . . . . . . . . . . . . . . . .     Fitting 10 Folds\n",
       "Estimator  . . . . . . . . . . . . . . . . . .  Logistic Regression"
      ]
     },
     "metadata": {},
     "output_type": "display_data"
    },
    {
     "data": {
      "text/html": [
       "<div>\n",
       "<style scoped>\n",
       "    .dataframe tbody tr th:only-of-type {\n",
       "        vertical-align: middle;\n",
       "    }\n",
       "\n",
       "    .dataframe tbody tr th {\n",
       "        vertical-align: top;\n",
       "    }\n",
       "\n",
       "    .dataframe thead th {\n",
       "        text-align: right;\n",
       "    }\n",
       "</style>\n",
       "<table border=\"1\" class=\"dataframe\">\n",
       "  <thead>\n",
       "    <tr style=\"text-align: right;\">\n",
       "      <th></th>\n",
       "      <th>Model</th>\n",
       "      <th>Accuracy</th>\n",
       "      <th>AUC</th>\n",
       "      <th>Recall</th>\n",
       "      <th>Prec.</th>\n",
       "      <th>F1</th>\n",
       "      <th>Kappa</th>\n",
       "      <th>MCC</th>\n",
       "      <th>TT (Sec)</th>\n",
       "    </tr>\n",
       "  </thead>\n",
       "  <tbody>\n",
       "  </tbody>\n",
       "</table>\n",
       "</div>"
      ],
      "text/plain": [
       "Empty DataFrame\n",
       "Columns: [Model, Accuracy, AUC, Recall, Prec., F1, Kappa, MCC, TT (Sec)]\n",
       "Index: []"
      ]
     },
     "metadata": {},
     "output_type": "display_data"
    },
    {
     "data": {
      "application/vnd.jupyter.widget-view+json": {
       "model_id": "8490121ed6c24e3b8bd9738759b26900",
       "version_major": 2,
       "version_minor": 0
      },
      "text/plain": [
       "Processing:   0%|          | 0/65 [00:00<?, ?it/s]"
      ]
     },
     "metadata": {},
     "output_type": "display_data"
    }
   ],
   "source": [
    "compare_models()"
   ]
  }
 ],
 "metadata": {
  "kernelspec": {
   "display_name": "base",
   "language": "python",
   "name": "python3"
  },
  "language_info": {
   "codemirror_mode": {
    "name": "ipython",
    "version": 3
   },
   "file_extension": ".py",
   "mimetype": "text/x-python",
   "name": "python",
   "nbconvert_exporter": "python",
   "pygments_lexer": "ipython3",
   "version": "3.11.5"
  }
 },
 "nbformat": 4,
 "nbformat_minor": 2
}
