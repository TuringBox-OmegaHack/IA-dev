{
 "cells": [
  {
   "cell_type": "code",
   "execution_count": 11,
   "metadata": {},
   "outputs": [],
   "source": [
    "from pycaret.classification import *\n",
    "import pandas as pd"
   ]
  },
  {
   "cell_type": "code",
   "execution_count": 12,
   "metadata": {},
   "outputs": [],
   "source": [
    "df_cargas = pd.read_csv(\"../data/transformed/cargas_transformadas.csv\")"
   ]
  },
  {
   "cell_type": "code",
   "execution_count": 15,
   "metadata": {},
   "outputs": [
    {
     "data": {
      "text/plain": [
       "target\n",
       "False    193879\n",
       "True        244\n",
       "Name: count, dtype: int64"
      ]
     },
     "execution_count": 15,
     "metadata": {},
     "output_type": "execute_result"
    }
   ],
   "source": [
    "df_cargas[\"target\"].isnull().value_counts()"
   ]
  },
  {
   "cell_type": "code",
   "execution_count": 13,
   "metadata": {},
   "outputs": [
    {
     "ename": "ValueError",
     "evalue": "244 missing values found in the target column: target. To proceed, remove the respective rows from the data. ",
     "output_type": "error",
     "traceback": [
      "\u001b[1;31m---------------------------------------------------------------------------\u001b[0m",
      "\u001b[1;31mValueError\u001b[0m                                Traceback (most recent call last)",
      "Cell \u001b[1;32mIn[13], line 1\u001b[0m\n\u001b[1;32m----> 1\u001b[0m setup(df_cargas,\n\u001b[0;32m      2\u001b[0m       target\u001b[38;5;241m=\u001b[39m\u001b[38;5;124m\"\u001b[39m\u001b[38;5;124mtarget\u001b[39m\u001b[38;5;124m\"\u001b[39m,\n\u001b[0;32m      3\u001b[0m       session_id\u001b[38;5;241m=\u001b[39m\u001b[38;5;241m42\u001b[39m)\n",
      "File \u001b[1;32mc:\\Users\\JUAN\\anaconda3\\Lib\\site-packages\\pycaret\\classification\\functional.py:595\u001b[0m, in \u001b[0;36msetup\u001b[1;34m(data, data_func, target, index, train_size, test_data, ordinal_features, numeric_features, categorical_features, date_features, text_features, ignore_features, keep_features, preprocess, create_date_columns, imputation_type, numeric_imputation, categorical_imputation, iterative_imputation_iters, numeric_iterative_imputer, categorical_iterative_imputer, text_features_method, max_encoding_ohe, encoding_method, rare_to_value, rare_value, polynomial_features, polynomial_degree, low_variance_threshold, group_features, drop_groups, remove_multicollinearity, multicollinearity_threshold, bin_numeric_features, remove_outliers, outliers_method, outliers_threshold, fix_imbalance, fix_imbalance_method, transformation, transformation_method, normalize, normalize_method, pca, pca_method, pca_components, feature_selection, feature_selection_method, feature_selection_estimator, n_features_to_select, custom_pipeline, custom_pipeline_position, data_split_shuffle, data_split_stratify, fold_strategy, fold, fold_shuffle, fold_groups, n_jobs, use_gpu, html, session_id, system_log, log_experiment, experiment_name, experiment_custom_tags, log_plots, log_profile, log_data, verbose, memory, profile, profile_kwargs)\u001b[0m\n\u001b[0;32m    593\u001b[0m exp \u001b[38;5;241m=\u001b[39m _EXPERIMENT_CLASS()\n\u001b[0;32m    594\u001b[0m set_current_experiment(exp)\n\u001b[1;32m--> 595\u001b[0m \u001b[38;5;28;01mreturn\u001b[39;00m exp\u001b[38;5;241m.\u001b[39msetup(\n\u001b[0;32m    596\u001b[0m     data\u001b[38;5;241m=\u001b[39mdata,\n\u001b[0;32m    597\u001b[0m     data_func\u001b[38;5;241m=\u001b[39mdata_func,\n\u001b[0;32m    598\u001b[0m     target\u001b[38;5;241m=\u001b[39mtarget,\n\u001b[0;32m    599\u001b[0m     index\u001b[38;5;241m=\u001b[39mindex,\n\u001b[0;32m    600\u001b[0m     train_size\u001b[38;5;241m=\u001b[39mtrain_size,\n\u001b[0;32m    601\u001b[0m     test_data\u001b[38;5;241m=\u001b[39mtest_data,\n\u001b[0;32m    602\u001b[0m     ordinal_features\u001b[38;5;241m=\u001b[39mordinal_features,\n\u001b[0;32m    603\u001b[0m     numeric_features\u001b[38;5;241m=\u001b[39mnumeric_features,\n\u001b[0;32m    604\u001b[0m     categorical_features\u001b[38;5;241m=\u001b[39mcategorical_features,\n\u001b[0;32m    605\u001b[0m     date_features\u001b[38;5;241m=\u001b[39mdate_features,\n\u001b[0;32m    606\u001b[0m     text_features\u001b[38;5;241m=\u001b[39mtext_features,\n\u001b[0;32m    607\u001b[0m     ignore_features\u001b[38;5;241m=\u001b[39mignore_features,\n\u001b[0;32m    608\u001b[0m     keep_features\u001b[38;5;241m=\u001b[39mkeep_features,\n\u001b[0;32m    609\u001b[0m     preprocess\u001b[38;5;241m=\u001b[39mpreprocess,\n\u001b[0;32m    610\u001b[0m     create_date_columns\u001b[38;5;241m=\u001b[39mcreate_date_columns,\n\u001b[0;32m    611\u001b[0m     imputation_type\u001b[38;5;241m=\u001b[39mimputation_type,\n\u001b[0;32m    612\u001b[0m     numeric_imputation\u001b[38;5;241m=\u001b[39mnumeric_imputation,\n\u001b[0;32m    613\u001b[0m     categorical_imputation\u001b[38;5;241m=\u001b[39mcategorical_imputation,\n\u001b[0;32m    614\u001b[0m     iterative_imputation_iters\u001b[38;5;241m=\u001b[39miterative_imputation_iters,\n\u001b[0;32m    615\u001b[0m     numeric_iterative_imputer\u001b[38;5;241m=\u001b[39mnumeric_iterative_imputer,\n\u001b[0;32m    616\u001b[0m     categorical_iterative_imputer\u001b[38;5;241m=\u001b[39mcategorical_iterative_imputer,\n\u001b[0;32m    617\u001b[0m     text_features_method\u001b[38;5;241m=\u001b[39mtext_features_method,\n\u001b[0;32m    618\u001b[0m     max_encoding_ohe\u001b[38;5;241m=\u001b[39mmax_encoding_ohe,\n\u001b[0;32m    619\u001b[0m     encoding_method\u001b[38;5;241m=\u001b[39mencoding_method,\n\u001b[0;32m    620\u001b[0m     rare_to_value\u001b[38;5;241m=\u001b[39mrare_to_value,\n\u001b[0;32m    621\u001b[0m     rare_value\u001b[38;5;241m=\u001b[39mrare_value,\n\u001b[0;32m    622\u001b[0m     polynomial_features\u001b[38;5;241m=\u001b[39mpolynomial_features,\n\u001b[0;32m    623\u001b[0m     polynomial_degree\u001b[38;5;241m=\u001b[39mpolynomial_degree,\n\u001b[0;32m    624\u001b[0m     low_variance_threshold\u001b[38;5;241m=\u001b[39mlow_variance_threshold,\n\u001b[0;32m    625\u001b[0m     group_features\u001b[38;5;241m=\u001b[39mgroup_features,\n\u001b[0;32m    626\u001b[0m     drop_groups\u001b[38;5;241m=\u001b[39mdrop_groups,\n\u001b[0;32m    627\u001b[0m     remove_multicollinearity\u001b[38;5;241m=\u001b[39mremove_multicollinearity,\n\u001b[0;32m    628\u001b[0m     multicollinearity_threshold\u001b[38;5;241m=\u001b[39mmulticollinearity_threshold,\n\u001b[0;32m    629\u001b[0m     bin_numeric_features\u001b[38;5;241m=\u001b[39mbin_numeric_features,\n\u001b[0;32m    630\u001b[0m     remove_outliers\u001b[38;5;241m=\u001b[39mremove_outliers,\n\u001b[0;32m    631\u001b[0m     outliers_method\u001b[38;5;241m=\u001b[39moutliers_method,\n\u001b[0;32m    632\u001b[0m     outliers_threshold\u001b[38;5;241m=\u001b[39moutliers_threshold,\n\u001b[0;32m    633\u001b[0m     fix_imbalance\u001b[38;5;241m=\u001b[39mfix_imbalance,\n\u001b[0;32m    634\u001b[0m     fix_imbalance_method\u001b[38;5;241m=\u001b[39mfix_imbalance_method,\n\u001b[0;32m    635\u001b[0m     transformation\u001b[38;5;241m=\u001b[39mtransformation,\n\u001b[0;32m    636\u001b[0m     transformation_method\u001b[38;5;241m=\u001b[39mtransformation_method,\n\u001b[0;32m    637\u001b[0m     normalize\u001b[38;5;241m=\u001b[39mnormalize,\n\u001b[0;32m    638\u001b[0m     normalize_method\u001b[38;5;241m=\u001b[39mnormalize_method,\n\u001b[0;32m    639\u001b[0m     pca\u001b[38;5;241m=\u001b[39mpca,\n\u001b[0;32m    640\u001b[0m     pca_method\u001b[38;5;241m=\u001b[39mpca_method,\n\u001b[0;32m    641\u001b[0m     pca_components\u001b[38;5;241m=\u001b[39mpca_components,\n\u001b[0;32m    642\u001b[0m     feature_selection\u001b[38;5;241m=\u001b[39mfeature_selection,\n\u001b[0;32m    643\u001b[0m     feature_selection_method\u001b[38;5;241m=\u001b[39mfeature_selection_method,\n\u001b[0;32m    644\u001b[0m     feature_selection_estimator\u001b[38;5;241m=\u001b[39mfeature_selection_estimator,\n\u001b[0;32m    645\u001b[0m     n_features_to_select\u001b[38;5;241m=\u001b[39mn_features_to_select,\n\u001b[0;32m    646\u001b[0m     custom_pipeline\u001b[38;5;241m=\u001b[39mcustom_pipeline,\n\u001b[0;32m    647\u001b[0m     custom_pipeline_position\u001b[38;5;241m=\u001b[39mcustom_pipeline_position,\n\u001b[0;32m    648\u001b[0m     data_split_shuffle\u001b[38;5;241m=\u001b[39mdata_split_shuffle,\n\u001b[0;32m    649\u001b[0m     data_split_stratify\u001b[38;5;241m=\u001b[39mdata_split_stratify,\n\u001b[0;32m    650\u001b[0m     fold_strategy\u001b[38;5;241m=\u001b[39mfold_strategy,\n\u001b[0;32m    651\u001b[0m     fold\u001b[38;5;241m=\u001b[39mfold,\n\u001b[0;32m    652\u001b[0m     fold_shuffle\u001b[38;5;241m=\u001b[39mfold_shuffle,\n\u001b[0;32m    653\u001b[0m     fold_groups\u001b[38;5;241m=\u001b[39mfold_groups,\n\u001b[0;32m    654\u001b[0m     n_jobs\u001b[38;5;241m=\u001b[39mn_jobs,\n\u001b[0;32m    655\u001b[0m     use_gpu\u001b[38;5;241m=\u001b[39muse_gpu,\n\u001b[0;32m    656\u001b[0m     html\u001b[38;5;241m=\u001b[39mhtml,\n\u001b[0;32m    657\u001b[0m     session_id\u001b[38;5;241m=\u001b[39msession_id,\n\u001b[0;32m    658\u001b[0m     system_log\u001b[38;5;241m=\u001b[39msystem_log,\n\u001b[0;32m    659\u001b[0m     log_experiment\u001b[38;5;241m=\u001b[39mlog_experiment,\n\u001b[0;32m    660\u001b[0m     experiment_name\u001b[38;5;241m=\u001b[39mexperiment_name,\n\u001b[0;32m    661\u001b[0m     experiment_custom_tags\u001b[38;5;241m=\u001b[39mexperiment_custom_tags,\n\u001b[0;32m    662\u001b[0m     log_plots\u001b[38;5;241m=\u001b[39mlog_plots,\n\u001b[0;32m    663\u001b[0m     log_profile\u001b[38;5;241m=\u001b[39mlog_profile,\n\u001b[0;32m    664\u001b[0m     log_data\u001b[38;5;241m=\u001b[39mlog_data,\n\u001b[0;32m    665\u001b[0m     verbose\u001b[38;5;241m=\u001b[39mverbose,\n\u001b[0;32m    666\u001b[0m     memory\u001b[38;5;241m=\u001b[39mmemory,\n\u001b[0;32m    667\u001b[0m     profile\u001b[38;5;241m=\u001b[39mprofile,\n\u001b[0;32m    668\u001b[0m     profile_kwargs\u001b[38;5;241m=\u001b[39mprofile_kwargs,\n\u001b[0;32m    669\u001b[0m )\n",
      "File \u001b[1;32mc:\\Users\\JUAN\\anaconda3\\Lib\\site-packages\\pycaret\\classification\\oop.py:744\u001b[0m, in \u001b[0;36mClassificationExperiment.setup\u001b[1;34m(self, data, data_func, target, index, train_size, test_data, ordinal_features, numeric_features, categorical_features, date_features, text_features, ignore_features, keep_features, preprocess, create_date_columns, imputation_type, numeric_imputation, categorical_imputation, iterative_imputation_iters, numeric_iterative_imputer, categorical_iterative_imputer, text_features_method, max_encoding_ohe, encoding_method, rare_to_value, rare_value, polynomial_features, polynomial_degree, low_variance_threshold, group_features, drop_groups, remove_multicollinearity, multicollinearity_threshold, bin_numeric_features, remove_outliers, outliers_method, outliers_threshold, fix_imbalance, fix_imbalance_method, transformation, transformation_method, normalize, normalize_method, pca, pca_method, pca_components, feature_selection, feature_selection_method, feature_selection_estimator, n_features_to_select, custom_pipeline, custom_pipeline_position, data_split_shuffle, data_split_stratify, fold_strategy, fold, fold_shuffle, fold_groups, n_jobs, use_gpu, html, session_id, system_log, log_experiment, experiment_name, experiment_custom_tags, log_plots, log_profile, log_data, engine, verbose, memory, profile, profile_kwargs)\u001b[0m\n\u001b[0;32m    741\u001b[0m \u001b[38;5;28;01mif\u001b[39;00m data_func \u001b[38;5;129;01mis\u001b[39;00m \u001b[38;5;129;01mnot\u001b[39;00m \u001b[38;5;28;01mNone\u001b[39;00m:\n\u001b[0;32m    742\u001b[0m     data \u001b[38;5;241m=\u001b[39m data_func()\n\u001b[1;32m--> 744\u001b[0m \u001b[38;5;28mself\u001b[39m\u001b[38;5;241m.\u001b[39mdata \u001b[38;5;241m=\u001b[39m \u001b[38;5;28mself\u001b[39m\u001b[38;5;241m.\u001b[39m_prepare_dataset(data, target)\n\u001b[0;32m    745\u001b[0m \u001b[38;5;28mself\u001b[39m\u001b[38;5;241m.\u001b[39mtarget_param \u001b[38;5;241m=\u001b[39m \u001b[38;5;28mself\u001b[39m\u001b[38;5;241m.\u001b[39mdata\u001b[38;5;241m.\u001b[39mcolumns[\u001b[38;5;241m-\u001b[39m\u001b[38;5;241m1\u001b[39m]\n\u001b[0;32m    746\u001b[0m \u001b[38;5;28mself\u001b[39m\u001b[38;5;241m.\u001b[39mindex \u001b[38;5;241m=\u001b[39m index\n",
      "File \u001b[1;32mc:\\Users\\JUAN\\anaconda3\\Lib\\site-packages\\pycaret\\internal\\preprocess\\preprocessor.py:165\u001b[0m, in \u001b[0;36mPreprocessor._prepare_dataset\u001b[1;34m(self, X, y)\u001b[0m\n\u001b[0;32m    163\u001b[0m \u001b[38;5;66;03m# Check that y has no missing values\u001b[39;00m\n\u001b[0;32m    164\u001b[0m \u001b[38;5;28;01mif\u001b[39;00m y\u001b[38;5;241m.\u001b[39misna()\u001b[38;5;241m.\u001b[39many():\n\u001b[1;32m--> 165\u001b[0m     \u001b[38;5;28;01mraise\u001b[39;00m \u001b[38;5;167;01mValueError\u001b[39;00m(\n\u001b[0;32m    166\u001b[0m         \u001b[38;5;124mf\u001b[39m\u001b[38;5;124m\"\u001b[39m\u001b[38;5;132;01m{\u001b[39;00my\u001b[38;5;241m.\u001b[39misna()\u001b[38;5;241m.\u001b[39msum()\u001b[38;5;132;01m}\u001b[39;00m\u001b[38;5;124m missing values found in the target column: \u001b[39m\u001b[38;5;124m\"\u001b[39m\n\u001b[0;32m    167\u001b[0m         \u001b[38;5;124mf\u001b[39m\u001b[38;5;124m\"\u001b[39m\u001b[38;5;132;01m{\u001b[39;00my\u001b[38;5;241m.\u001b[39mname\u001b[38;5;132;01m}\u001b[39;00m\u001b[38;5;124m. To proceed, remove the respective rows from the data. \u001b[39m\u001b[38;5;124m\"\u001b[39m\n\u001b[0;32m    168\u001b[0m     )\n\u001b[0;32m    170\u001b[0m \u001b[38;5;28;01mreturn\u001b[39;00m df_shrink_dtypes(\n\u001b[0;32m    171\u001b[0m     X\u001b[38;5;241m.\u001b[39mmerge(y\u001b[38;5;241m.\u001b[39mto_frame(), left_index\u001b[38;5;241m=\u001b[39m\u001b[38;5;28;01mTrue\u001b[39;00m, right_index\u001b[38;5;241m=\u001b[39m\u001b[38;5;28;01mTrue\u001b[39;00m)\n\u001b[0;32m    172\u001b[0m )\n",
      "\u001b[1;31mValueError\u001b[0m: 244 missing values found in the target column: target. To proceed, remove the respective rows from the data. "
     ]
    }
   ],
   "source": [
    "setup(df_cargas,\n",
    "      target=\"target\",\n",
    "      session_id=42)"
   ]
  }
 ],
 "metadata": {
  "kernelspec": {
   "display_name": "base",
   "language": "python",
   "name": "python3"
  },
  "language_info": {
   "codemirror_mode": {
    "name": "ipython",
    "version": 3
   },
   "file_extension": ".py",
   "mimetype": "text/x-python",
   "name": "python",
   "nbconvert_exporter": "python",
   "pygments_lexer": "ipython3",
   "version": "3.11.5"
  }
 },
 "nbformat": 4,
 "nbformat_minor": 2
}
